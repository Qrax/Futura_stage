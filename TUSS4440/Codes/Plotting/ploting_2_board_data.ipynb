{
 "cells": [
  {
   "metadata": {
    "ExecuteTime": {
     "end_time": "2025-06-10T21:03:45.902630Z",
     "start_time": "2025-06-10T21:03:24.630193Z"
    }
   },
   "cell_type": "code",
   "source": "%pip install scipy",
   "id": "2f1651d7362ebde4",
   "outputs": [
    {
     "name": "stdout",
     "output_type": "stream",
     "text": [
      "Collecting scipy\n",
      "  Obtaining dependency information for scipy from https://files.pythonhosted.org/packages/e6/eb/3bf6ea8ab7f1503dca3a10df2e4b9c3f6b3316df07f6c0ded94b281c7101/scipy-1.15.3-cp312-cp312-win_amd64.whl.metadata\n",
      "  Downloading scipy-1.15.3-cp312-cp312-win_amd64.whl.metadata (60 kB)\n",
      "     ---------------------------------------- 0.0/60.8 kB ? eta -:--:--\n",
      "     ------ --------------------------------- 10.2/60.8 kB ? eta -:--:--\n",
      "     ------------ ------------------------- 20.5/60.8 kB 217.9 kB/s eta 0:00:01\n",
      "     ------------------------- ------------ 41.0/60.8 kB 281.8 kB/s eta 0:00:01\n",
      "     -------------------------------------- 60.8/60.8 kB 358.3 kB/s eta 0:00:00\n",
      "Requirement already satisfied: numpy<2.5,>=1.23.5 in c:\\pycharm projects\\futura_stage\\.venv\\lib\\site-packages (from scipy) (2.3.0)\n",
      "Downloading scipy-1.15.3-cp312-cp312-win_amd64.whl (41.0 MB)\n",
      "   ---------------------------------------- 0.0/41.0 MB ? eta -:--:--\n",
      "   ---------------------------------------- 0.2/41.0 MB 7.6 MB/s eta 0:00:06\n",
      "   - -------------------------------------- 1.8/41.0 MB 23.1 MB/s eta 0:00:02\n",
      "   -- ------------------------------------- 3.1/41.0 MB 27.9 MB/s eta 0:00:02\n",
      "   ------ --------------------------------- 6.6/41.0 MB 42.4 MB/s eta 0:00:01\n",
      "   ----------- ---------------------------- 11.5/41.0 MB 72.6 MB/s eta 0:00:01\n",
      "   ---------------- ----------------------- 16.8/41.0 MB 108.8 MB/s eta 0:00:01\n",
      "   --------------------- ------------------ 21.9/41.0 MB 131.2 MB/s eta 0:00:01\n",
      "   -------------------------- ------------- 27.1/41.0 MB 129.5 MB/s eta 0:00:01\n",
      "   ------------------------------- -------- 32.5/41.0 MB 131.2 MB/s eta 0:00:01\n",
      "   ----------------------------------- ---- 36.8/41.0 MB 110.0 MB/s eta 0:00:01\n",
      "   ---------------------------------------  41.0/41.0 MB 108.8 MB/s eta 0:00:01\n",
      "   ---------------------------------------  41.0/41.0 MB 108.8 MB/s eta 0:00:01\n",
      "   ---------------------------------------- 41.0/41.0 MB 54.7 MB/s eta 0:00:00\n",
      "Installing collected packages: scipy\n",
      "Successfully installed scipy-1.15.3\n",
      "Note: you may need to restart the kernel to use updated packages.\n"
     ]
    },
    {
     "name": "stderr",
     "output_type": "stream",
     "text": [
      "\n",
      "[notice] A new release of pip is available: 23.2.1 -> 25.1.1\n",
      "[notice] To update, run: python.exe -m pip install --upgrade pip\n"
     ]
    }
   ],
   "execution_count": 3
  },
  {
   "cell_type": "code",
   "id": "initial_id",
   "metadata": {
    "collapsed": true,
    "ExecuteTime": {
     "end_time": "2025-03-10T15:15:52.387410Z",
     "start_time": "2025-03-10T15:15:52.271430Z"
    }
   },
   "source": [
    "%matplotlib qt\n",
    "import pandas as pd\n",
    "import matplotlib.pyplot as plt\n",
    "\n",
    "# Lees de data, waarbij de eerste regels worden overgeslagen omdat deze geen numerieke waarden bevatten\n",
    "data_tx = pd.read_csv('../../data/20250310_155042_TX_forward.txt', header=None, skiprows=3)\n",
    "data_rx = pd.read_csv('../../data/20250310_161528_RX_forward.txt', header=None, skiprows=3)\n",
    "\n",
    "# Geef kolomnamen aan de dataframes\n",
    "data_tx.columns = [\"TX ADC Value\"]\n",
    "data_rx.columns = [\"RX ADC Value\"]\n",
    "\n",
    "# Maak een figuur met twee subplots (één voor TX en één voor RX)\n",
    "plt.figure(figsize=(12, 6))\n",
    "\n",
    "# TX-data plotten\n",
    "plt.subplot(2, 1, 1)\n",
    "plt.plot(data_tx.index, data_tx[\"TX ADC Value\"], linestyle='-', marker='o', markersize=3, label=\"TX Data\")\n",
    "plt.xlabel(\"Sample Index\")\n",
    "plt.ylabel(\"ADC Value\")\n",
    "plt.title(\"TX Forward Data\")\n",
    "plt.legend()\n",
    "plt.grid()\n",
    "\n",
    "# RX-data plotten\n",
    "plt.subplot(2, 1, 2)\n",
    "plt.plot(data_rx.index, data_rx[\"RX ADC Value\"], linestyle='-', marker='x', label=\"RX Data\", color='r')\n",
    "plt.xlabel(\"Sample Index\")\n",
    "plt.ylabel(\"ADC Value\")\n",
    "plt.title(\"RX Forward Data\")\n",
    "plt.legend()\n",
    "plt.grid()\n",
    "\n",
    "# Layout optimaliseren en tonen\n",
    "plt.tight_layout()\n",
    "plt.show()\n"
   ],
   "outputs": [],
   "execution_count": 8
  },
  {
   "metadata": {
    "ExecuteTime": {
     "end_time": "2025-03-10T14:56:54.110631Z",
     "start_time": "2025-03-10T14:56:54.094928Z"
    }
   },
   "cell_type": "code",
   "source": [
    "#see what folders are in one directory up from the current folder\n",
    "import os\n",
    "parent_dir = os.path.dirname(os.getcwd())\n",
    "\n",
    "# Print the parent directory\n",
    "print(parent_dir)\n",
    "\n",
    "# List the contents of the parent directory\n",
    "print(os.listdir(parent_dir))\n",
    "\n",
    "#Show the contents of the Data folder\n",
    "print(os.listdir(os.path.join(parent_dir, 'Data')))\n",
    "\n"
   ],
   "id": "8a6cd386921dc9bd",
   "outputs": [
    {
     "name": "stdout",
     "output_type": "stream",
     "text": [
      "C:\\Users\\q.koelman\\PycharmProjects\\TUSS4440\\TUSS4440\n",
      "['ADC_values_single_sensor.py', 'analysis_results', 'Codes', 'data', 'distance_measurements.csv', 'Examening_Data.py', 'main.ipynb', 'real_time_data.py', 'receive_data_on-off.py', 'Receive_or_sent.py', 'Sending_pulse_or_receiving.py', 'ToF.py', 'tuss44x0-controller.py']\n",
      "['20250310_153559_RX_forward.txt', '20250310_153559_TX_forward.txt', '20250310_153732_RX_forward.txt', '20250310_153732_TX_forward.txt', '20250310_154314_RX_forward.txt', '20250310_154314_TX_forward.txt', '20250310_154916_RX_forward.txt', '20250310_154916_TX_forward.txt', '20250310_155042_RX_forward.txt', '20250310_155042_TX_forward.txt', 'raw_ultrasonic_data.csv', 'raw_ultrasonic_data_20250228-130034.csv', 'transposed_ultrasonic_data_20250228-125551.csv', 'transposed_ultrasonic_data_20250228-130034.csv', 'ultrasonic_data.csv', 'ultrasonic_data_20250228-125551.csv', 'ultrasonic_data_20250228-130034.csv']\n"
     ]
    }
   ],
   "execution_count": 5
  },
  {
   "metadata": {
    "ExecuteTime": {
     "end_time": "2025-03-10T14:57:32.264840Z",
     "start_time": "2025-03-10T14:57:31.308072Z"
    }
   },
   "cell_type": "code",
   "source": [
    "import pandas as pd\n",
    "import matplotlib.pyplot as plt\n",
    "\n",
    "\n",
    "# Lees de data, waarbij de eerste regel wordt overgeslagen omdat deze een header bevat. De data wordt gehaald uit de data folder\n",
    "data = pd.read_csv('../../data/20250310_153559_RX_forward.txt', header=None, skiprows=1)\n",
    "\n",
    "# Aangezien er maar één kolom aanwezig is, gebruiken we de index van de DataFrame als X-as\n",
    "plt.scatter(data.index, data[0], marker='o', linestyle='-')\n",
    "plt.xlabel('Index')\n",
    "plt.ylabel('Waarde')\n",
    "plt.title('Plot van de data uit forward_data.txt')\n",
    "plt.show()"
   ],
   "id": "19eca687824fe193",
   "outputs": [
    {
     "ename": "EmptyDataError",
     "evalue": "No columns to parse from file",
     "output_type": "error",
     "traceback": [
      "\u001B[1;31m---------------------------------------------------------------------------\u001B[0m",
      "\u001B[1;31mEmptyDataError\u001B[0m                            Traceback (most recent call last)",
      "Cell \u001B[1;32mIn[6], line 6\u001B[0m\n\u001B[0;32m      2\u001B[0m \u001B[38;5;28;01mimport\u001B[39;00m\u001B[38;5;250m \u001B[39m\u001B[38;5;21;01mmatplotlib\u001B[39;00m\u001B[38;5;21;01m.\u001B[39;00m\u001B[38;5;21;01mpyplot\u001B[39;00m\u001B[38;5;250m \u001B[39m\u001B[38;5;28;01mas\u001B[39;00m\u001B[38;5;250m \u001B[39m\u001B[38;5;21;01mplt\u001B[39;00m\n\u001B[0;32m      5\u001B[0m \u001B[38;5;66;03m# Lees de data, waarbij de eerste regel wordt overgeslagen omdat deze een header bevat. De data wordt gehaald uit de data folder\u001B[39;00m\n\u001B[1;32m----> 6\u001B[0m data \u001B[38;5;241m=\u001B[39m \u001B[43mpd\u001B[49m\u001B[38;5;241;43m.\u001B[39;49m\u001B[43mread_csv\u001B[49m\u001B[43m(\u001B[49m\u001B[38;5;124;43m'\u001B[39;49m\u001B[38;5;124;43m../data/20250310_153559_RX_forward.txt\u001B[39;49m\u001B[38;5;124;43m'\u001B[39;49m\u001B[43m,\u001B[49m\u001B[43m \u001B[49m\u001B[43mheader\u001B[49m\u001B[38;5;241;43m=\u001B[39;49m\u001B[38;5;28;43;01mNone\u001B[39;49;00m\u001B[43m,\u001B[49m\u001B[43m \u001B[49m\u001B[43mskiprows\u001B[49m\u001B[38;5;241;43m=\u001B[39;49m\u001B[38;5;241;43m1\u001B[39;49m\u001B[43m)\u001B[49m\n\u001B[0;32m      8\u001B[0m \u001B[38;5;66;03m# Aangezien er maar één kolom aanwezig is, gebruiken we de index van de DataFrame als X-as\u001B[39;00m\n\u001B[0;32m      9\u001B[0m plt\u001B[38;5;241m.\u001B[39mscatter(data\u001B[38;5;241m.\u001B[39mindex, data[\u001B[38;5;241m0\u001B[39m], marker\u001B[38;5;241m=\u001B[39m\u001B[38;5;124m'\u001B[39m\u001B[38;5;124mo\u001B[39m\u001B[38;5;124m'\u001B[39m, linestyle\u001B[38;5;241m=\u001B[39m\u001B[38;5;124m'\u001B[39m\u001B[38;5;124m-\u001B[39m\u001B[38;5;124m'\u001B[39m)\n",
      "File \u001B[1;32m~\\PycharmProjects\\TUSS4440\\.venv\\lib\\site-packages\\pandas\\io\\parsers\\readers.py:1026\u001B[0m, in \u001B[0;36mread_csv\u001B[1;34m(filepath_or_buffer, sep, delimiter, header, names, index_col, usecols, dtype, engine, converters, true_values, false_values, skipinitialspace, skiprows, skipfooter, nrows, na_values, keep_default_na, na_filter, verbose, skip_blank_lines, parse_dates, infer_datetime_format, keep_date_col, date_parser, date_format, dayfirst, cache_dates, iterator, chunksize, compression, thousands, decimal, lineterminator, quotechar, quoting, doublequote, escapechar, comment, encoding, encoding_errors, dialect, on_bad_lines, delim_whitespace, low_memory, memory_map, float_precision, storage_options, dtype_backend)\u001B[0m\n\u001B[0;32m   1013\u001B[0m kwds_defaults \u001B[38;5;241m=\u001B[39m _refine_defaults_read(\n\u001B[0;32m   1014\u001B[0m     dialect,\n\u001B[0;32m   1015\u001B[0m     delimiter,\n\u001B[1;32m   (...)\u001B[0m\n\u001B[0;32m   1022\u001B[0m     dtype_backend\u001B[38;5;241m=\u001B[39mdtype_backend,\n\u001B[0;32m   1023\u001B[0m )\n\u001B[0;32m   1024\u001B[0m kwds\u001B[38;5;241m.\u001B[39mupdate(kwds_defaults)\n\u001B[1;32m-> 1026\u001B[0m \u001B[38;5;28;01mreturn\u001B[39;00m \u001B[43m_read\u001B[49m\u001B[43m(\u001B[49m\u001B[43mfilepath_or_buffer\u001B[49m\u001B[43m,\u001B[49m\u001B[43m \u001B[49m\u001B[43mkwds\u001B[49m\u001B[43m)\u001B[49m\n",
      "File \u001B[1;32m~\\PycharmProjects\\TUSS4440\\.venv\\lib\\site-packages\\pandas\\io\\parsers\\readers.py:620\u001B[0m, in \u001B[0;36m_read\u001B[1;34m(filepath_or_buffer, kwds)\u001B[0m\n\u001B[0;32m    617\u001B[0m _validate_names(kwds\u001B[38;5;241m.\u001B[39mget(\u001B[38;5;124m\"\u001B[39m\u001B[38;5;124mnames\u001B[39m\u001B[38;5;124m\"\u001B[39m, \u001B[38;5;28;01mNone\u001B[39;00m))\n\u001B[0;32m    619\u001B[0m \u001B[38;5;66;03m# Create the parser.\u001B[39;00m\n\u001B[1;32m--> 620\u001B[0m parser \u001B[38;5;241m=\u001B[39m TextFileReader(filepath_or_buffer, \u001B[38;5;241m*\u001B[39m\u001B[38;5;241m*\u001B[39mkwds)\n\u001B[0;32m    622\u001B[0m \u001B[38;5;28;01mif\u001B[39;00m chunksize \u001B[38;5;129;01mor\u001B[39;00m iterator:\n\u001B[0;32m    623\u001B[0m     \u001B[38;5;28;01mreturn\u001B[39;00m parser\n",
      "File \u001B[1;32m~\\PycharmProjects\\TUSS4440\\.venv\\lib\\site-packages\\pandas\\io\\parsers\\readers.py:1620\u001B[0m, in \u001B[0;36mTextFileReader.__init__\u001B[1;34m(self, f, engine, **kwds)\u001B[0m\n\u001B[0;32m   1617\u001B[0m     \u001B[38;5;28mself\u001B[39m\u001B[38;5;241m.\u001B[39moptions[\u001B[38;5;124m\"\u001B[39m\u001B[38;5;124mhas_index_names\u001B[39m\u001B[38;5;124m\"\u001B[39m] \u001B[38;5;241m=\u001B[39m kwds[\u001B[38;5;124m\"\u001B[39m\u001B[38;5;124mhas_index_names\u001B[39m\u001B[38;5;124m\"\u001B[39m]\n\u001B[0;32m   1619\u001B[0m \u001B[38;5;28mself\u001B[39m\u001B[38;5;241m.\u001B[39mhandles: IOHandles \u001B[38;5;241m|\u001B[39m \u001B[38;5;28;01mNone\u001B[39;00m \u001B[38;5;241m=\u001B[39m \u001B[38;5;28;01mNone\u001B[39;00m\n\u001B[1;32m-> 1620\u001B[0m \u001B[38;5;28mself\u001B[39m\u001B[38;5;241m.\u001B[39m_engine \u001B[38;5;241m=\u001B[39m \u001B[38;5;28;43mself\u001B[39;49m\u001B[38;5;241;43m.\u001B[39;49m\u001B[43m_make_engine\u001B[49m\u001B[43m(\u001B[49m\u001B[43mf\u001B[49m\u001B[43m,\u001B[49m\u001B[43m \u001B[49m\u001B[38;5;28;43mself\u001B[39;49m\u001B[38;5;241;43m.\u001B[39;49m\u001B[43mengine\u001B[49m\u001B[43m)\u001B[49m\n",
      "File \u001B[1;32m~\\PycharmProjects\\TUSS4440\\.venv\\lib\\site-packages\\pandas\\io\\parsers\\readers.py:1898\u001B[0m, in \u001B[0;36mTextFileReader._make_engine\u001B[1;34m(self, f, engine)\u001B[0m\n\u001B[0;32m   1895\u001B[0m     \u001B[38;5;28;01mraise\u001B[39;00m \u001B[38;5;167;01mValueError\u001B[39;00m(msg)\n\u001B[0;32m   1897\u001B[0m \u001B[38;5;28;01mtry\u001B[39;00m:\n\u001B[1;32m-> 1898\u001B[0m     \u001B[38;5;28;01mreturn\u001B[39;00m mapping[engine](f, \u001B[38;5;241m*\u001B[39m\u001B[38;5;241m*\u001B[39m\u001B[38;5;28mself\u001B[39m\u001B[38;5;241m.\u001B[39moptions)\n\u001B[0;32m   1899\u001B[0m \u001B[38;5;28;01mexcept\u001B[39;00m \u001B[38;5;167;01mException\u001B[39;00m:\n\u001B[0;32m   1900\u001B[0m     \u001B[38;5;28;01mif\u001B[39;00m \u001B[38;5;28mself\u001B[39m\u001B[38;5;241m.\u001B[39mhandles \u001B[38;5;129;01mis\u001B[39;00m \u001B[38;5;129;01mnot\u001B[39;00m \u001B[38;5;28;01mNone\u001B[39;00m:\n",
      "File \u001B[1;32m~\\PycharmProjects\\TUSS4440\\.venv\\lib\\site-packages\\pandas\\io\\parsers\\c_parser_wrapper.py:93\u001B[0m, in \u001B[0;36mCParserWrapper.__init__\u001B[1;34m(self, src, **kwds)\u001B[0m\n\u001B[0;32m     90\u001B[0m \u001B[38;5;28;01mif\u001B[39;00m kwds[\u001B[38;5;124m\"\u001B[39m\u001B[38;5;124mdtype_backend\u001B[39m\u001B[38;5;124m\"\u001B[39m] \u001B[38;5;241m==\u001B[39m \u001B[38;5;124m\"\u001B[39m\u001B[38;5;124mpyarrow\u001B[39m\u001B[38;5;124m\"\u001B[39m:\n\u001B[0;32m     91\u001B[0m     \u001B[38;5;66;03m# Fail here loudly instead of in cython after reading\u001B[39;00m\n\u001B[0;32m     92\u001B[0m     import_optional_dependency(\u001B[38;5;124m\"\u001B[39m\u001B[38;5;124mpyarrow\u001B[39m\u001B[38;5;124m\"\u001B[39m)\n\u001B[1;32m---> 93\u001B[0m \u001B[38;5;28mself\u001B[39m\u001B[38;5;241m.\u001B[39m_reader \u001B[38;5;241m=\u001B[39m parsers\u001B[38;5;241m.\u001B[39mTextReader(src, \u001B[38;5;241m*\u001B[39m\u001B[38;5;241m*\u001B[39mkwds)\n\u001B[0;32m     95\u001B[0m \u001B[38;5;28mself\u001B[39m\u001B[38;5;241m.\u001B[39munnamed_cols \u001B[38;5;241m=\u001B[39m \u001B[38;5;28mself\u001B[39m\u001B[38;5;241m.\u001B[39m_reader\u001B[38;5;241m.\u001B[39munnamed_cols\n\u001B[0;32m     97\u001B[0m \u001B[38;5;66;03m# error: Cannot determine type of 'names'\u001B[39;00m\n",
      "File \u001B[1;32mparsers.pyx:581\u001B[0m, in \u001B[0;36mpandas._libs.parsers.TextReader.__cinit__\u001B[1;34m()\u001B[0m\n",
      "\u001B[1;31mEmptyDataError\u001B[0m: No columns to parse from file"
     ]
    }
   ],
   "execution_count": 6
  }
 ],
 "metadata": {
  "kernelspec": {
   "display_name": "Python 3",
   "language": "python",
   "name": "python3"
  },
  "language_info": {
   "codemirror_mode": {
    "name": "ipython",
    "version": 2
   },
   "file_extension": ".py",
   "mimetype": "text/x-python",
   "name": "python",
   "nbconvert_exporter": "python",
   "pygments_lexer": "ipython2",
   "version": "2.7.6"
  }
 },
 "nbformat": 4,
 "nbformat_minor": 5
}
